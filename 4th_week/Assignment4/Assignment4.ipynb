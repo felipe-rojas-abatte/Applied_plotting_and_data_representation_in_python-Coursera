{
 "cells": [
  {
   "cell_type": "markdown",
   "metadata": {},
   "source": [
    "# Assignment 4\n",
    "\n",
    "Before working on this assignment please read these instructions fully. In the submission area, you will notice that you can click the link to **Preview the Grading** for each step of the assignment. This is the criteria that will be used for peer grading. Please familiarize yourself with the criteria before beginning the assignment.\n",
    "\n",
    "This assignment requires that you to find **at least** two datasets on the web which are related, and that you visualize these datasets to answer a question with the broad topic of **weather phenomena** (see below) for the region of **Ann Arbor, Michigan, United States**, or **United States** more broadly.\n",
    "\n",
    "You can merge these datasets with data from different regions if you like! For instance, you might want to compare **Ann Arbor, Michigan, United States** to Ann Arbor, USA. In that case at least one source file must be about **Ann Arbor, Michigan, United States**.\n",
    "\n",
    "You are welcome to choose datasets at your discretion, but keep in mind **they will be shared with your peers**, so choose appropriate datasets. Sensitive, confidential, illicit, and proprietary materials are not good choices for datasets for this assignment. You are welcome to upload datasets of your own as well, and link to them using a third party repository such as github, bitbucket, pastebin, etc. Please be aware of the Coursera terms of service with respect to intellectual property.\n",
    "\n",
    "Also, you are welcome to preserve data in its original language, but for the purposes of grading you should provide english translations. You are welcome to provide multiple visuals in different languages if you would like!\n",
    "\n",
    "As this assignment is for the whole course, you must incorporate principles discussed in the first week, such as having as high data-ink ratio (Tufte) and aligning with Cairo’s principles of truth, beauty, function, and insight.\n",
    "\n",
    "Here are the assignment instructions:\n",
    "\n",
    " * State the region and the domain category that your data sets are about (e.g., **Ann Arbor, Michigan, United States** and **weather phenomena**).\n",
    " * You must state a question about the domain category and region that you identified as being interesting.\n",
    " * You must provide at least two links to available datasets. These could be links to files such as CSV or Excel files, or links to websites which might have data in tabular form, such as Wikipedia pages.\n",
    " * You must upload an image which addresses the research question you stated. In addition to addressing the question, this visual should follow Cairo's principles of truthfulness, functionality, beauty, and insightfulness.\n",
    " * You must contribute a short (1-2 paragraph) written justification of how your visualization addresses your stated research question.\n",
    "\n",
    "What do we mean by **weather phenomena**?  For this category you might want to consider seasonal changes, natural disasters, or historical trends.\n",
    "\n",
    "## Tips\n",
    "* Wikipedia is an excellent source of data, and I strongly encourage you to explore it for new data sources.\n",
    "* Many governments run open data initiatives at the city, region, and country levels, and these are wonderful resources for localized data sources.\n",
    "* Several international agencies, such as the [United Nations](http://data.un.org/), the [World Bank](http://data.worldbank.org/), the [Global Open Data Index](http://index.okfn.org/place/) are other great places to look for data.\n",
    "* This assignment requires you to convert and clean datafiles. Check out the discussion forums for tips on how to do this from various sources, and share your successes with your fellow students!\n",
    "\n",
    "## Example\n",
    "Looking for an example? Here's what our course assistant put together for the **Ann Arbor, MI, USA** area using **sports and athletics** as the topic. [Example Solution File](./readonly/Assignment4_example.pdf)"
   ]
  },
  {
   "cell_type": "code",
   "execution_count": 1,
   "metadata": {},
   "outputs": [],
   "source": [
    "import pandas as pd\n",
    "import numpy as np\n",
    "import matplotlib.pyplot as plt\n",
    "from functools import reduce"
   ]
  },
  {
   "cell_type": "code",
   "execution_count": 2,
   "metadata": {},
   "outputs": [],
   "source": [
    "#I read the files as DataFrames\n",
    "df1 = pd.read_csv('query.csv', header=0)\n",
    "df2 = pd.read_csv('query2.csv', header=0)\n",
    "df3 = pd.read_csv('query3.csv', header=0)\n",
    "df4 = pd.read_csv('query4.csv', header=0)\n",
    "#I concatenate the 4 DataFrames\n",
    "earthquakes = pd.concat([df1, df2, df3, df4])"
   ]
  },
  {
   "cell_type": "code",
   "execution_count": 3,
   "metadata": {},
   "outputs": [
    {
     "data": {
      "text/html": [
       "<div>\n",
       "<table border=\"1\" class=\"dataframe\">\n",
       "  <thead>\n",
       "    <tr style=\"text-align: right;\">\n",
       "      <th></th>\n",
       "      <th>time</th>\n",
       "      <th>mag</th>\n",
       "      <th>year</th>\n",
       "    </tr>\n",
       "  </thead>\n",
       "  <tbody>\n",
       "    <tr>\n",
       "      <th>0</th>\n",
       "      <td>2020-06-26 11:54:57.804</td>\n",
       "      <td>5.4</td>\n",
       "      <td>2020</td>\n",
       "    </tr>\n",
       "    <tr>\n",
       "      <th>1</th>\n",
       "      <td>2020-06-26 07:21:12.961</td>\n",
       "      <td>5.2</td>\n",
       "      <td>2020</td>\n",
       "    </tr>\n",
       "    <tr>\n",
       "      <th>2</th>\n",
       "      <td>2020-06-26 02:10:24.325</td>\n",
       "      <td>5.3</td>\n",
       "      <td>2020</td>\n",
       "    </tr>\n",
       "    <tr>\n",
       "      <th>3</th>\n",
       "      <td>2020-06-25 21:17:04.816</td>\n",
       "      <td>5.0</td>\n",
       "      <td>2020</td>\n",
       "    </tr>\n",
       "    <tr>\n",
       "      <th>4</th>\n",
       "      <td>2020-06-25 21:05:18.990</td>\n",
       "      <td>6.4</td>\n",
       "      <td>2020</td>\n",
       "    </tr>\n",
       "  </tbody>\n",
       "</table>\n",
       "</div>"
      ],
      "text/plain": [
       "                     time  mag  year\n",
       "0 2020-06-26 11:54:57.804  5.4  2020\n",
       "1 2020-06-26 07:21:12.961  5.2  2020\n",
       "2 2020-06-26 02:10:24.325  5.3  2020\n",
       "3 2020-06-25 21:17:04.816  5.0  2020\n",
       "4 2020-06-25 21:05:18.990  6.4  2020"
      ]
     },
     "execution_count": 3,
     "metadata": {},
     "output_type": "execute_result"
    }
   ],
   "source": [
    "#I select only date and magnitud of each earthquake\n",
    "columns_to_keep = ['time','mag']\n",
    "earthquakes = earthquakes[columns_to_keep]\n",
    "#I change the format of the time to %Y-%m-%d %H:%M:%S, removing the letter T and Z from it\n",
    "earthquakes['time'] = earthquakes['time'].str.replace(r'T', ' ')\n",
    "earthquakes['time'] = earthquakes['time'].str.replace(r'Z', ' ')\n",
    "#I convert the time to datetime format removing hours, minutes and seconds\n",
    "earthquakes['time'] = pd.to_datetime(earthquakes['time'])\n",
    "earthquakes['year'] = earthquakes['time'].dt.year\n",
    "earthquakes.head()"
   ]
  },
  {
   "cell_type": "code",
   "execution_count": 4,
   "metadata": {},
   "outputs": [
    {
     "data": {
      "text/html": [
       "<div>\n",
       "<table border=\"1\" class=\"dataframe\">\n",
       "  <thead>\n",
       "    <tr style=\"text-align: right;\">\n",
       "      <th></th>\n",
       "      <th>time</th>\n",
       "      <th>mag</th>\n",
       "      <th>year</th>\n",
       "    </tr>\n",
       "  </thead>\n",
       "  <tbody>\n",
       "    <tr>\n",
       "      <th>0</th>\n",
       "      <td>1980-01-01 01:24:37.200</td>\n",
       "      <td>5.1</td>\n",
       "      <td>1980</td>\n",
       "    </tr>\n",
       "    <tr>\n",
       "      <th>1</th>\n",
       "      <td>1980-01-01 02:45:54.000</td>\n",
       "      <td>5.3</td>\n",
       "      <td>1980</td>\n",
       "    </tr>\n",
       "    <tr>\n",
       "      <th>2</th>\n",
       "      <td>1980-01-01 16:41:45.700</td>\n",
       "      <td>5.0</td>\n",
       "      <td>1980</td>\n",
       "    </tr>\n",
       "    <tr>\n",
       "      <th>3</th>\n",
       "      <td>1980-01-01 16:42:40.000</td>\n",
       "      <td>6.7</td>\n",
       "      <td>1980</td>\n",
       "    </tr>\n",
       "    <tr>\n",
       "      <th>4</th>\n",
       "      <td>1980-01-01 19:19:05.900</td>\n",
       "      <td>5.0</td>\n",
       "      <td>1980</td>\n",
       "    </tr>\n",
       "  </tbody>\n",
       "</table>\n",
       "</div>"
      ],
      "text/plain": [
       "                     time  mag  year\n",
       "0 1980-01-01 01:24:37.200  5.1  1980\n",
       "1 1980-01-01 02:45:54.000  5.3  1980\n",
       "2 1980-01-01 16:41:45.700  5.0  1980\n",
       "3 1980-01-01 16:42:40.000  6.7  1980\n",
       "4 1980-01-01 19:19:05.900  5.0  1980"
      ]
     },
     "execution_count": 4,
     "metadata": {},
     "output_type": "execute_result"
    }
   ],
   "source": [
    "#I sort the time in ascending order\n",
    "earthquakes = earthquakes.sort_values(by=['time'])\n",
    "#I reset index\n",
    "earthquakes = earthquakes.reset_index()\n",
    "#I erase index column\n",
    "del earthquakes['index']\n",
    "earthquakes.head()"
   ]
  },
  {
   "cell_type": "code",
   "execution_count": 5,
   "metadata": {},
   "outputs": [],
   "source": [
    "#Condition for earthquakes with a given magnitud\n",
    "earthquakes_55 = (earthquakes['mag']>5.5)\n",
    "earthquakes_6 = (earthquakes['mag']>6.0)\n",
    "earthquakes_65 = (earthquakes['mag']>6.5)"
   ]
  },
  {
   "cell_type": "code",
   "execution_count": 6,
   "metadata": {},
   "outputs": [
    {
     "data": {
      "text/html": [
       "<div>\n",
       "<table border=\"1\" class=\"dataframe\">\n",
       "  <thead>\n",
       "    <tr style=\"text-align: right;\">\n",
       "      <th></th>\n",
       "      <th>mag&gt;5</th>\n",
       "      <th>mag&gt;5.5</th>\n",
       "      <th>mag&gt;6</th>\n",
       "      <th>mag&gt;6.5</th>\n",
       "    </tr>\n",
       "    <tr>\n",
       "      <th>year</th>\n",
       "      <th></th>\n",
       "      <th></th>\n",
       "      <th></th>\n",
       "      <th></th>\n",
       "    </tr>\n",
       "  </thead>\n",
       "  <tbody>\n",
       "    <tr>\n",
       "      <th>1980</th>\n",
       "      <td>1408</td>\n",
       "      <td>274</td>\n",
       "      <td>78</td>\n",
       "      <td>20</td>\n",
       "    </tr>\n",
       "    <tr>\n",
       "      <th>1981</th>\n",
       "      <td>1263</td>\n",
       "      <td>255</td>\n",
       "      <td>63</td>\n",
       "      <td>25</td>\n",
       "    </tr>\n",
       "    <tr>\n",
       "      <th>1982</th>\n",
       "      <td>1505</td>\n",
       "      <td>252</td>\n",
       "      <td>73</td>\n",
       "      <td>21</td>\n",
       "    </tr>\n",
       "    <tr>\n",
       "      <th>1983</th>\n",
       "      <td>1800</td>\n",
       "      <td>329</td>\n",
       "      <td>125</td>\n",
       "      <td>40</td>\n",
       "    </tr>\n",
       "    <tr>\n",
       "      <th>1984</th>\n",
       "      <td>1682</td>\n",
       "      <td>363</td>\n",
       "      <td>115</td>\n",
       "      <td>34</td>\n",
       "    </tr>\n",
       "  </tbody>\n",
       "</table>\n",
       "</div>"
      ],
      "text/plain": [
       "      mag>5  mag>5.5  mag>6  mag>6.5\n",
       "year                                \n",
       "1980   1408      274     78       20\n",
       "1981   1263      255     63       25\n",
       "1982   1505      252     73       21\n",
       "1983   1800      329    125       40\n",
       "1984   1682      363    115       34"
      ]
     },
     "execution_count": 6,
     "metadata": {},
     "output_type": "execute_result"
    }
   ],
   "source": [
    "# I create a new column full with 1 numbers\n",
    "earthquakes['n'] = 1\n",
    "# I group by year and sum all the earthquakes according to magnitude\n",
    "yearly_earthquake = earthquakes.groupby('year')['n'].agg({'mag>5': np.sum})\n",
    "eq55 = earthquakes[earthquakes_55].groupby('year')['n'].agg({'mag>5.5': np.sum})\n",
    "eq6 = earthquakes[earthquakes_6].groupby('year')['n'].agg({'mag>6': np.sum})\n",
    "eq65 = earthquakes[earthquakes_65].groupby('year')['n'].agg({'mag>6.5': np.sum})\n",
    "yearly_earthquake['mag>5.5'] = eq55\n",
    "yearly_earthquake['mag>6'] = eq6\n",
    "yearly_earthquake['mag>6.5'] = eq65\n",
    "yearly_earthquake.head()"
   ]
  },
  {
   "cell_type": "code",
   "execution_count": 7,
   "metadata": {},
   "outputs": [
    {
     "data": {
      "text/html": [
       "<div>\n",
       "<table border=\"1\" class=\"dataframe\">\n",
       "  <thead>\n",
       "    <tr style=\"text-align: right;\">\n",
       "      <th></th>\n",
       "      <th>N_sunspots</th>\n",
       "    </tr>\n",
       "    <tr>\n",
       "      <th>year</th>\n",
       "      <th></th>\n",
       "    </tr>\n",
       "  </thead>\n",
       "  <tbody>\n",
       "    <tr>\n",
       "      <th>1980</th>\n",
       "      <td>80135</td>\n",
       "    </tr>\n",
       "    <tr>\n",
       "      <th>1981</th>\n",
       "      <td>72590</td>\n",
       "    </tr>\n",
       "    <tr>\n",
       "      <th>1982</th>\n",
       "      <td>59268</td>\n",
       "    </tr>\n",
       "    <tr>\n",
       "      <th>1983</th>\n",
       "      <td>33197</td>\n",
       "    </tr>\n",
       "    <tr>\n",
       "      <th>1984</th>\n",
       "      <td>22138</td>\n",
       "    </tr>\n",
       "  </tbody>\n",
       "</table>\n",
       "</div>"
      ],
      "text/plain": [
       "      N_sunspots\n",
       "year            \n",
       "1980       80135\n",
       "1981       72590\n",
       "1982       59268\n",
       "1983       33197\n",
       "1984       22138"
      ]
     },
     "execution_count": 7,
     "metadata": {},
     "output_type": "execute_result"
    }
   ],
   "source": [
    "#I read the files as DataFrames\n",
    "df = pd.read_csv('SN_d_tot_V2.0.csv', names=['year','month','day','decimal_year','N_sunspots_per_day','SNerror','N1','N2'], sep = ';')\n",
    "#I Convert 3 first columns into datetime format\n",
    "df['time'] = pd.to_datetime((df['year']*10000+df['month']*100+df['day']).apply(str),format='%Y%m%d')\n",
    "df['y-m'] = df['time'].dt.strftime('%Y-%m')\n",
    "df['y'] = df['time'].dt.strftime('%Y')\n",
    "#Select time from 1980 up to now\n",
    "select = (df['year']>=1980)\n",
    "# I group by year and sum all the sunspots\n",
    "yearly_sunsplot = df[select].set_index('year').groupby(level=0)['N_sunspots_per_day'].agg({'N_sunspots': np.sum})\n",
    "yearly_sunsplot.head()"
   ]
  },
  {
   "cell_type": "code",
   "execution_count": 8,
   "metadata": {},
   "outputs": [
    {
     "data": {
      "text/html": [
       "<div>\n",
       "<table border=\"1\" class=\"dataframe\">\n",
       "  <thead>\n",
       "    <tr style=\"text-align: right;\">\n",
       "      <th></th>\n",
       "      <th>mag&gt;5</th>\n",
       "      <th>mag&gt;5.5</th>\n",
       "      <th>mag&gt;6</th>\n",
       "      <th>mag&gt;6.5</th>\n",
       "      <th>N_sunspots</th>\n",
       "    </tr>\n",
       "    <tr>\n",
       "      <th>year</th>\n",
       "      <th></th>\n",
       "      <th></th>\n",
       "      <th></th>\n",
       "      <th></th>\n",
       "      <th></th>\n",
       "    </tr>\n",
       "  </thead>\n",
       "  <tbody>\n",
       "    <tr>\n",
       "      <th>1980</th>\n",
       "      <td>1408</td>\n",
       "      <td>274</td>\n",
       "      <td>78</td>\n",
       "      <td>20</td>\n",
       "      <td>80135</td>\n",
       "    </tr>\n",
       "    <tr>\n",
       "      <th>1981</th>\n",
       "      <td>1263</td>\n",
       "      <td>255</td>\n",
       "      <td>63</td>\n",
       "      <td>25</td>\n",
       "      <td>72590</td>\n",
       "    </tr>\n",
       "    <tr>\n",
       "      <th>1982</th>\n",
       "      <td>1505</td>\n",
       "      <td>252</td>\n",
       "      <td>73</td>\n",
       "      <td>21</td>\n",
       "      <td>59268</td>\n",
       "    </tr>\n",
       "    <tr>\n",
       "      <th>1983</th>\n",
       "      <td>1800</td>\n",
       "      <td>329</td>\n",
       "      <td>125</td>\n",
       "      <td>40</td>\n",
       "      <td>33197</td>\n",
       "    </tr>\n",
       "    <tr>\n",
       "      <th>1984</th>\n",
       "      <td>1682</td>\n",
       "      <td>363</td>\n",
       "      <td>115</td>\n",
       "      <td>34</td>\n",
       "      <td>22138</td>\n",
       "    </tr>\n",
       "  </tbody>\n",
       "</table>\n",
       "</div>"
      ],
      "text/plain": [
       "      mag>5  mag>5.5  mag>6  mag>6.5  N_sunspots\n",
       "year                                            \n",
       "1980   1408      274     78       20       80135\n",
       "1981   1263      255     63       25       72590\n",
       "1982   1505      252     73       21       59268\n",
       "1983   1800      329    125       40       33197\n",
       "1984   1682      363    115       34       22138"
      ]
     },
     "execution_count": 8,
     "metadata": {},
     "output_type": "execute_result"
    }
   ],
   "source": [
    "yearly_df = pd.merge(yearly_earthquake, yearly_sunsplot, how='inner', left_index=True, right_index=True)\n",
    "yearly_df.head()"
   ]
  },
  {
   "cell_type": "code",
   "execution_count": 9,
   "metadata": {},
   "outputs": [
    {
     "data": {
      "image/png": "[encoded data removed]",
      "text/plain": [
       "<Figure size 576x576 with 2 Axes>"
      ]
     },
     "metadata": {
      "needs_background": "light"
     },
     "output_type": "display_data"
    }
   ],
   "source": [
    "fig,ax = plt.subplots(figsize=(8,8))\n",
    "plt.title('Comparison of Solar activity vs. Earthquakes \\n between 1980 and 2020', fontsize=15)\n",
    "ax.set_ylabel('Number of earthquakes', color='k', fontsize=15)\n",
    "ax.set_xlabel('years', color='k', fontsize=15) \n",
    "ax.bar(yearly_df.index, yearly_df['mag>5.5'], color='b', alpha=0.4, label=' > 5.5')\n",
    "ax.bar(yearly_df.index, yearly_df['mag>6'], color='g', alpha=0.5, label=' > 6')\n",
    "ax.bar(yearly_df.index, yearly_df['mag>6.5'], color='k', alpha=0.6, label=' > 6.5')\n",
    "ax.tick_params(axis='y', labelcolor='k')\n",
    "plt.legend(title='Magnitude')\n",
    "\n",
    "ax2 = ax.twinx()  # instantiate a second axes that shares the same x-axis\n",
    "\n",
    "ax2.set_ylabel('Number of Sunspots', color='r', fontsize=15)\n",
    "ax2.plot(yearly_df.index, yearly_df['N_sunspots'], c='r', linewidth=4)\n",
    "ax2.tick_params(axis='y', labelcolor='r')\n",
    "#plt.savefig('Relation_between_Sun_and_earthquakes.pdf')"
   ]
  },
  {
   "cell_type": "code",
   "execution_count": null,
   "metadata": {},
   "outputs": [],
   "source": []
  }
 ],
 "metadata": {
  "kernelspec": {
   "display_name": "Python 3",
   "language": "python",
   "name": "python3"
  },
  "language_info": {
   "codemirror_mode": {
    "name": "ipython",
    "version": 3
   },
   "file_extension": ".py",
   "mimetype": "text/x-python",
   "name": "python",
   "nbconvert_exporter": "python",
   "pygments_lexer": "ipython3",
   "version": "3.5.2"
  }
 },
 "nbformat": 4,
 "nbformat_minor": 1
}
