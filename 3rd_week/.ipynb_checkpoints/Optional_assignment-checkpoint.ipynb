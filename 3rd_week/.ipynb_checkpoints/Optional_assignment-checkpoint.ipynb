{
 "cells": [
  {
   "cell_type": "code",
   "execution_count": 1,
   "metadata": {},
   "outputs": [],
   "source": [
    "import matplotlib.pyplot as plt\n",
    "import numpy as np\n",
    "import matplotlib.gridspec as gridspec\n",
    "import matplotlib.animation as animation"
   ]
  },
  {
   "cell_type": "code",
   "execution_count": 9,
   "metadata": {},
   "outputs": [],
   "source": [
    "n = 100\n",
    "#x1 = np.random.normal(-2.5, 1, n)\n",
    "x1 = np.random.randn(n)\n",
    "#x2 = np.random.gamma(2, 1.5, n)\n",
    "#x3 = np.random.exponential(2, n)+7\n",
    "#x4 = np.random.uniform(14,20, n)"
   ]
  },
  {
   "cell_type": "code",
   "execution_count": 14,
   "metadata": {},
   "outputs": [],
   "source": [
    "def update(curr):\n",
    "    if curr == n: # verificamos si la animacion tiene su ultimo dato para parar la animacion\n",
    "        graf.event_source.stop() \n",
    "    plt.cla() #limpiamos el eje actual\n",
    "    bins1 = np.arange(-5, 5, 0.5) #seleccionamos el rango de los bins \n",
    "    #bins2 = np.arange(1, 10, 0.5) #seleccionamos el rango de los bins \n",
    "    #bins3 = np.arange(0, 10, 0.5) #seleccionamos el rango de los bins \n",
    "    #bins4 = np.arange(14, 20, 0.5) #seleccionamos el rango de los bins \n",
    "    plt.hist(x1[:curr], bins=bins1) #definmos el histograma desde 0 hasta el frame actual\n",
    "    plt.axis([-4,4,0,30])\n",
    "    plt.gca().set_title('Sampling the Normal Distribution') #titulo\n",
    "    plt.gca().set_ylabel('Frequency') #nombre de los ejex\n",
    "    plt.gca().set_xlabel('Value')\n",
    "    plt.annotate('n = {}'.format(curr), [3.27])\n",
    "\n",
    "    \n",
    "#gspec = gridspec.GridSpec(2, 2)\n",
    "\n",
    "#upper_left = plt.subplot(gspec[0, 0]) #Fila 0, columna desde la 1 hasta la 2\n",
    "#upper_right = plt.subplot(gspec[0, 1]) #Fila 1 hasta 2, columna 0\n",
    "#lower_left = plt.subplot(gspec[1, 0]) # Fila 1 hasta 2 , columna 1 hasta 2\n",
    "#lower_right = plt.subplot(gspec[1, 1]) # Fila 1 hasta 2 , columna 1 hasta 2\n"
   ]
  },
  {
   "cell_type": "code",
   "execution_count": 15,
   "metadata": {},
   "outputs": [
    {
     "name": "stderr",
     "output_type": "stream",
     "text": [
      "Traceback (most recent call last):\n",
      "  File \"/usr/local/lib/python3.5/dist-packages/matplotlib/cbook/__init__.py\", line 215, in process\n",
      "    func(*args, **kwargs)\n",
      "  File \"/usr/local/lib/python3.5/dist-packages/matplotlib/animation.py\", line 999, in _start\n",
      "    self._init_draw()\n",
      "  File \"/usr/local/lib/python3.5/dist-packages/matplotlib/animation.py\", line 1740, in _init_draw\n",
      "    self._draw_frame(next(self.new_frame_seq()))\n",
      "  File \"/usr/local/lib/python3.5/dist-packages/matplotlib/animation.py\", line 1762, in _draw_frame\n",
      "    self._drawn_artists = self._func(framedata, *self._args)\n",
      "  File \"<ipython-input-14-dfa5e57f8204>\", line 14, in update\n",
      "    plt.annotate('n = {}'.format(curr), [3.27])\n",
      "  File \"/usr/local/lib/python3.5/dist-packages/matplotlib/pyplot.py\", line 2405, in annotate\n",
      "    return gca().annotate(s, xy, *args, **kwargs)\n",
      "  File \"/usr/local/lib/python3.5/dist-packages/matplotlib/axes/_axes.py\", line 735, in annotate\n",
      "    a = mtext.Annotation(s, xy, *args, **kwargs)\n",
      "  File \"/usr/local/lib/python3.5/dist-packages/matplotlib/text.py\", line 2190, in __init__\n",
      "    x, y = xytext\n",
      "ValueError: not enough values to unpack (expected 2, got 1)\n"
     ]
    },
    {
     "data": {
      "image/png": "[encoded data removed]",
      "text/plain": [
       "<Figure size 432x288 with 1 Axes>"
      ]
     },
     "metadata": {
      "needs_background": "light"
     },
     "output_type": "display_data"
    }
   ],
   "source": [
    "fig = plt.figure()\n",
    "graf = animation.FuncAnimation(fig, update, interval=100)"
   ]
  },
  {
   "cell_type": "code",
   "execution_count": null,
   "metadata": {},
   "outputs": [],
   "source": []
  }
 ],
 "metadata": {
  "kernelspec": {
   "display_name": "Python 3",
   "language": "python",
   "name": "python3"
  },
  "language_info": {
   "codemirror_mode": {
    "name": "ipython",
    "version": 3
   },
   "file_extension": ".py",
   "mimetype": "text/x-python",
   "name": "python",
   "nbconvert_exporter": "python",
   "pygments_lexer": "ipython3",
   "version": "3.5.2"
  }
 },
 "nbformat": 4,
 "nbformat_minor": 4
}
